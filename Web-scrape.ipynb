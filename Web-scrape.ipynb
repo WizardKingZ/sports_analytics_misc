{
 "cells": [
  {
   "cell_type": "code",
   "execution_count": 1,
   "metadata": {},
   "outputs": [],
   "source": [
    "url = r\"https://clinicaltrials.gov/ct2/show/record/NCT03621813?rank=1\""
   ]
  },
  {
   "cell_type": "code",
   "execution_count": 2,
   "metadata": {},
   "outputs": [],
   "source": [
    "from bs4 import BeautifulSoup\n",
    "import requests "
   ]
  },
  {
   "cell_type": "code",
   "execution_count": 4,
   "metadata": {},
   "outputs": [],
   "source": [
    "r = requests.get(url)\n",
    "soup = BeautifulSoup(r.text, 'html')"
   ]
  },
  {
   "cell_type": "code",
   "execution_count": 6,
   "metadata": {
    "scrolled": false
   },
   "outputs": [],
   "source": [
    "tab = soup.find(id='tab-body')"
   ]
  },
  {
   "cell_type": "code",
   "execution_count": 11,
   "metadata": {},
   "outputs": [],
   "source": [
    "table = tab.find('table')"
   ]
  },
  {
   "cell_type": "code",
   "execution_count": 25,
   "metadata": {},
   "outputs": [],
   "source": [
    "from collections import OrderedDict"
   ]
  },
  {
   "cell_type": "code",
   "execution_count": 32,
   "metadata": {},
   "outputs": [],
   "source": [
    "curr_info = None\n",
    "info = OrderedDict({})\n",
    "\n",
    "for row in table.find_all('tr'):\n",
    "    attr = row.find('th')\n",
    "    value = row.find('td')\n",
    "    if value and attr:\n",
    "        info[curr_info][attr.get_text().strip()] = value.get_text().strip()\n",
    "    elif attr:\n",
    "        curr_info = attr.get_text().strip()\n",
    "        info[curr_info] = {}"
   ]
  },
  {
   "cell_type": "code",
   "execution_count": 35,
   "metadata": {},
   "outputs": [],
   "source": [
    "import pandas as pd"
   ]
  },
  {
   "cell_type": "code",
   "execution_count": 37,
   "metadata": {},
   "outputs": [
    {
     "data": {
      "text/html": [
       "<div>\n",
       "<style scoped>\n",
       "    .dataframe tbody tr th:only-of-type {\n",
       "        vertical-align: middle;\n",
       "    }\n",
       "\n",
       "    .dataframe tbody tr th {\n",
       "        vertical-align: top;\n",
       "    }\n",
       "\n",
       "    .dataframe thead th {\n",
       "        text-align: right;\n",
       "    }\n",
       "</style>\n",
       "<table border=\"1\" class=\"dataframe\">\n",
       "  <thead>\n",
       "    <tr style=\"text-align: right;\">\n",
       "      <th></th>\n",
       "      <th>0</th>\n",
       "      <th>1</th>\n",
       "    </tr>\n",
       "  </thead>\n",
       "  <tbody>\n",
       "    <tr>\n",
       "      <th>0</th>\n",
       "      <td>First Submitted Date  ICMJE</td>\n",
       "      <td>August 3, 2018</td>\n",
       "    </tr>\n",
       "    <tr>\n",
       "      <th>1</th>\n",
       "      <td>Estimated  Study Start Date  ICMJE</td>\n",
       "      <td>October 1, 2018</td>\n",
       "    </tr>\n",
       "    <tr>\n",
       "      <th>2</th>\n",
       "      <td>Original Secondary Outcome Measures  ICMJE</td>\n",
       "      <td>Same as current</td>\n",
       "    </tr>\n",
       "    <tr>\n",
       "      <th>3</th>\n",
       "      <td>Last Update Posted Date</td>\n",
       "      <td>August 8, 2018</td>\n",
       "    </tr>\n",
       "    <tr>\n",
       "      <th>4</th>\n",
       "      <td>Original Primary Outcome Measures  ICMJE</td>\n",
       "      <td>Same as current</td>\n",
       "    </tr>\n",
       "    <tr>\n",
       "      <th>5</th>\n",
       "      <td>Original Other Outcome Measures  ICMJE</td>\n",
       "      <td>Not Provided</td>\n",
       "    </tr>\n",
       "    <tr>\n",
       "      <th>6</th>\n",
       "      <td>Change History</td>\n",
       "      <td>No Changes Posted</td>\n",
       "    </tr>\n",
       "    <tr>\n",
       "      <th>7</th>\n",
       "      <td>Estimated Primary Completion Date</td>\n",
       "      <td>September 30, 2020   (Final data collection da...</td>\n",
       "    </tr>\n",
       "    <tr>\n",
       "      <th>8</th>\n",
       "      <td>First Posted Date  ICMJE</td>\n",
       "      <td>August 8, 2018</td>\n",
       "    </tr>\n",
       "    <tr>\n",
       "      <th>9</th>\n",
       "      <td>Current Secondary Outcome Measures  ICMJE   (s...</td>\n",
       "      <td>Patient-Reported Outcomes Measurement System N...</td>\n",
       "    </tr>\n",
       "    <tr>\n",
       "      <th>10</th>\n",
       "      <td>Current Other Outcome Measures  ICMJE</td>\n",
       "      <td>Not Provided</td>\n",
       "    </tr>\n",
       "    <tr>\n",
       "      <th>11</th>\n",
       "      <td>Current Primary Outcome Measures  ICMJE   (sub...</td>\n",
       "      <td>Pain Visual Analog Scale Change [ Time Frame: ...</td>\n",
       "    </tr>\n",
       "  </tbody>\n",
       "</table>\n",
       "</div>"
      ],
      "text/plain": [
       "                                                    0  \\\n",
       "0                         First Submitted Date  ICMJE   \n",
       "1                  Estimated  Study Start Date  ICMJE   \n",
       "2          Original Secondary Outcome Measures  ICMJE   \n",
       "3                             Last Update Posted Date   \n",
       "4            Original Primary Outcome Measures  ICMJE   \n",
       "5              Original Other Outcome Measures  ICMJE   \n",
       "6                                      Change History   \n",
       "7                   Estimated Primary Completion Date   \n",
       "8                            First Posted Date  ICMJE   \n",
       "9   Current Secondary Outcome Measures  ICMJE   (s...   \n",
       "10              Current Other Outcome Measures  ICMJE   \n",
       "11  Current Primary Outcome Measures  ICMJE   (sub...   \n",
       "\n",
       "                                                    1  \n",
       "0                                      August 3, 2018  \n",
       "1                                     October 1, 2018  \n",
       "2                                     Same as current  \n",
       "3                                      August 8, 2018  \n",
       "4                                     Same as current  \n",
       "5                                        Not Provided  \n",
       "6                                   No Changes Posted  \n",
       "7   September 30, 2020   (Final data collection da...  \n",
       "8                                      August 8, 2018  \n",
       "9   Patient-Reported Outcomes Measurement System N...  \n",
       "10                                       Not Provided  \n",
       "11  Pain Visual Analog Scale Change [ Time Frame: ...  "
      ]
     },
     "execution_count": 37,
     "metadata": {},
     "output_type": "execute_result"
    }
   ],
   "source": [
    "pd.DataFrame(info[u'Tracking Information'].items())"
   ]
  }
 ],
 "metadata": {
  "kernelspec": {
   "display_name": "Python [default]",
   "language": "python",
   "name": "python2"
  },
  "language_info": {
   "codemirror_mode": {
    "name": "ipython",
    "version": 2
   },
   "file_extension": ".py",
   "mimetype": "text/x-python",
   "name": "python",
   "nbconvert_exporter": "python",
   "pygments_lexer": "ipython2",
   "version": "2.7.14"
  },
  "toc": {
   "nav_menu": {
    "height": "12px",
    "width": "252px"
   },
   "navigate_menu": true,
   "number_sections": true,
   "sideBar": true,
   "threshold": 4,
   "toc_cell": false,
   "toc_section_display": "block",
   "toc_window_display": false
  }
 },
 "nbformat": 4,
 "nbformat_minor": 2
}
